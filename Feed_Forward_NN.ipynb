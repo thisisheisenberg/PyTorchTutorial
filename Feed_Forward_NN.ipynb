{
  "nbformat": 4,
  "nbformat_minor": 0,
  "metadata": {
    "colab": {
      "name": "Feed Forward NN.ipynb",
      "version": "0.3.2",
      "provenance": []
    },
    "kernelspec": {
      "name": "python3",
      "display_name": "Python 3"
    },
    "accelerator": "GPU"
  },
  "cells": [
    {
      "cell_type": "code",
      "metadata": {
        "id": "s8t-15PsByhP",
        "colab_type": "code",
        "colab": {}
      },
      "source": [
        "import numpy as np\n",
        "import torch\n",
        "import torch.nn as nn\n",
        "import torchvision.datasets as dsets\n",
        "import torchvision.transforms as transforms\n",
        "from torch.autograd import Variable"
      ],
      "execution_count": 0,
      "outputs": []
    },
    {
      "cell_type": "code",
      "metadata": {
        "id": "1TIw1ToKB2W9",
        "colab_type": "code",
        "colab": {}
      },
      "source": [
        "train_data = dsets.MNIST(root='./Data',train=True,transform=transforms.transforms.ToTensor(),download=True)"
      ],
      "execution_count": 0,
      "outputs": []
    },
    {
      "cell_type": "code",
      "metadata": {
        "id": "tJiqEgfzCrjh",
        "colab_type": "code",
        "colab": {}
      },
      "source": [
        "test_data = dsets.MNIST(root='./Data',train=False,transform=transforms.transforms.ToTensor(),download=True)"
      ],
      "execution_count": 0,
      "outputs": []
    },
    {
      "cell_type": "code",
      "metadata": {
        "id": "_WLFfxxYlF4B",
        "colab_type": "code",
        "colab": {}
      },
      "source": [
        "### Making Train and Test Data Iteratable"
      ],
      "execution_count": 0,
      "outputs": []
    },
    {
      "cell_type": "code",
      "metadata": {
        "id": "wAbeF9FKlHkx",
        "colab_type": "code",
        "colab": {}
      },
      "source": [
        "train_iter = torch.utils.data.DataLoader(dataset=train_data,batch_size=100,shuffle=True)\n",
        "test_iter = torch.utils.data.DataLoader(dataset=test_data,batch_size=100,shuffle=False)"
      ],
      "execution_count": 0,
      "outputs": []
    },
    {
      "cell_type": "code",
      "metadata": {
        "id": "s7rtfKkAmBNA",
        "colab_type": "code",
        "colab": {}
      },
      "source": [
        "class FeedForwardNN(nn.Module):\n",
        " \n",
        "  def __init__(self,input_dim,hidden_dim,output_dim):\n",
        "    \n",
        "    super(FeedForwardNN,self).__init__()\n",
        "    self.fc1 = nn.Linear(input_dim,hidden_dim)\n",
        "    self.relu = nn.ReLU()\n",
        "    self.fc2 = nn.Linear(hidden_dim,input_dim)\n",
        "    \n",
        "  def foward(self,X):\n",
        "    \n",
        "    out = self.fc1(X)\n",
        "    out = self.relu(out)\n",
        "    out = self.fc2(out)\n",
        "    return out"
      ],
      "execution_count": 0,
      "outputs": []
    },
    {
      "cell_type": "code",
      "metadata": {
        "id": "7m-sOG01m1nA",
        "colab_type": "code",
        "colab": {}
      },
      "source": [
        "input_dim = 28 * 28\n",
        "hidden_dim = 100\n",
        "output_dim =10"
      ],
      "execution_count": 0,
      "outputs": []
    },
    {
      "cell_type": "code",
      "metadata": {
        "id": "XWH8DS-cnXMC",
        "colab_type": "code",
        "colab": {}
      },
      "source": [
        "ffnn = FeedForwardNN(input_dim,hidden_dim,output_dim)"
      ],
      "execution_count": 0,
      "outputs": []
    },
    {
      "cell_type": "code",
      "metadata": {
        "id": "5qmncFzhwq7r",
        "colab_type": "code",
        "colab": {
          "base_uri": "https://localhost:8080/",
          "height": 34
        },
        "outputId": "06ebfe30-4d6d-4396-cf6c-c0386869b7b3"
      },
      "source": [
        "if torch.cuda.is_available():\n",
        "  \n",
        "  print(\"GPU Available\")\n",
        "  ffnn.cuda()"
      ],
      "execution_count": 75,
      "outputs": [
        {
          "output_type": "stream",
          "text": [
            "GPU Available\n"
          ],
          "name": "stdout"
        }
      ]
    },
    {
      "cell_type": "code",
      "metadata": {
        "id": "Mv6vwuDKngOR",
        "colab_type": "code",
        "colab": {}
      },
      "source": [
        "loss = nn.CrossEntropyLoss()"
      ],
      "execution_count": 0,
      "outputs": []
    },
    {
      "cell_type": "code",
      "metadata": {
        "id": "aOqtkIoLn8iE",
        "colab_type": "code",
        "colab": {}
      },
      "source": [
        "optim = torch.optim.SGD(ffnn.parameters(),lr=0.001)"
      ],
      "execution_count": 0,
      "outputs": []
    },
    {
      "cell_type": "code",
      "metadata": {
        "id": "cMXJMhg5oIDC",
        "colab_type": "code",
        "colab": {}
      },
      "source": [
        "no_of_epocs = 10"
      ],
      "execution_count": 0,
      "outputs": []
    },
    {
      "cell_type": "code",
      "metadata": {
        "id": "Iod3c7vioPCx",
        "colab_type": "code",
        "colab": {
          "base_uri": "https://localhost:8080/",
          "height": 1000
        },
        "outputId": "ca5aca71-4970-42ea-fe17-d88c2295333c"
      },
      "source": [
        "for epoc in range(no_of_epocs):\n",
        "  iter = 0\n",
        "  print(\"Epoc:\",epoc)\n",
        "  for i,(images,lables) in enumerate(train_iter):\n",
        "    \n",
        "    images = Variable(images.view(-1,28*28).cuda())\n",
        "    lables = Variable(lables.cuda())\n",
        "    optim.zero_grad()\n",
        "    output = ffnn.foward(images)\n",
        "    c_loss = loss(output,lables)\n",
        "    c_loss.backward()\n",
        "    optim.step()\n",
        "    iter += 1\n",
        "    \n",
        "    if iter % 100 == 0 :\n",
        "      \n",
        "      total = 0\n",
        "      correct = 0\n",
        "      \n",
        "      for images,lables in test_iter:\n",
        "        \n",
        "        images = Variable(images.view(-1,28*28).cuda())\n",
        "        lables = Variable(lables.cuda())\n",
        "        output = ffnn.foward(images)\n",
        "        _,pred = torch.max(output.data,1)\n",
        "        total += lables.size(0)\n",
        "        correct += (pred.cpu() == lables.cpu()).sum()\n",
        "        \n",
        "      acc = (correct.numpy()/total) * 100\n",
        "      print(\"Iter:{},Loss:{},Accuracy:{}\".format(iter,c_loss.data,acc))"
      ],
      "execution_count": 79,
      "outputs": [
        {
          "output_type": "stream",
          "text": [
            "Epoc: 0\n",
            "Iter:100,Loss:6.56461238861084,Accuracy:2.41\n",
            "Iter:200,Loss:6.4794769287109375,Accuracy:10.51\n",
            "Iter:300,Loss:6.340563774108887,Accuracy:17.49\n",
            "Iter:400,Loss:6.191898822784424,Accuracy:22.470000000000002\n",
            "Iter:500,Loss:5.996387958526611,Accuracy:25.56\n",
            "Iter:600,Loss:5.736166477203369,Accuracy:28.499999999999996\n",
            "Epoc: 1\n",
            "Iter:100,Loss:5.4073381423950195,Accuracy:29.14\n",
            "Iter:200,Loss:4.981744766235352,Accuracy:29.34\n",
            "Iter:300,Loss:4.406479358673096,Accuracy:29.28\n",
            "Iter:400,Loss:3.75350284576416,Accuracy:31.3\n",
            "Iter:500,Loss:3.0389299392700195,Accuracy:34.03\n",
            "Iter:600,Loss:2.843745231628418,Accuracy:40.47\n",
            "Epoc: 2\n",
            "Iter:100,Loss:2.5263075828552246,Accuracy:52.059999999999995\n",
            "Iter:200,Loss:2.353151321411133,Accuracy:62.45\n",
            "Iter:300,Loss:2.275651216506958,Accuracy:67.72\n",
            "Iter:400,Loss:2.2014389038085938,Accuracy:70.28\n",
            "Iter:500,Loss:2.0620243549346924,Accuracy:70.30999999999999\n",
            "Iter:600,Loss:1.9927846193313599,Accuracy:71.64\n",
            "Epoc: 3\n",
            "Iter:100,Loss:1.946397304534912,Accuracy:72.83\n",
            "Iter:200,Loss:1.8647836446762085,Accuracy:72.65\n",
            "Iter:300,Loss:1.894490361213684,Accuracy:73.04\n",
            "Iter:400,Loss:1.8014694452285767,Accuracy:73.57000000000001\n",
            "Iter:500,Loss:1.7077090740203857,Accuracy:74.11\n",
            "Iter:600,Loss:1.616947889328003,Accuracy:75.41\n",
            "Epoc: 4\n",
            "Iter:100,Loss:1.6757838726043701,Accuracy:75.09\n",
            "Iter:200,Loss:1.6051286458969116,Accuracy:75.46000000000001\n",
            "Iter:300,Loss:1.522942304611206,Accuracy:76.25999999999999\n",
            "Iter:400,Loss:1.5879838466644287,Accuracy:76.98\n",
            "Iter:500,Loss:1.467689871788025,Accuracy:76.55999999999999\n",
            "Iter:600,Loss:1.4901115894317627,Accuracy:77.58\n",
            "Epoc: 5\n",
            "Iter:100,Loss:1.3604693412780762,Accuracy:77.94\n",
            "Iter:200,Loss:1.3512376546859741,Accuracy:77.55\n",
            "Iter:300,Loss:1.265133261680603,Accuracy:77.68\n",
            "Iter:400,Loss:1.383375883102417,Accuracy:78.51\n",
            "Iter:500,Loss:1.2416846752166748,Accuracy:79.03\n",
            "Iter:600,Loss:1.2412281036376953,Accuracy:79.62\n",
            "Epoc: 6\n",
            "Iter:100,Loss:1.1526554822921753,Accuracy:79.17\n",
            "Iter:200,Loss:1.239274501800537,Accuracy:79.96\n",
            "Iter:300,Loss:1.2213777303695679,Accuracy:79.95\n",
            "Iter:400,Loss:1.1103333234786987,Accuracy:80.28999999999999\n",
            "Iter:500,Loss:1.1008155345916748,Accuracy:80.57\n",
            "Iter:600,Loss:1.0610729455947876,Accuracy:79.86999999999999\n",
            "Epoc: 7\n",
            "Iter:100,Loss:1.1230887174606323,Accuracy:80.60000000000001\n",
            "Iter:200,Loss:0.9755257964134216,Accuracy:80.95\n",
            "Iter:300,Loss:0.960186243057251,Accuracy:81.10000000000001\n",
            "Iter:400,Loss:0.9454566836357117,Accuracy:81.71000000000001\n",
            "Iter:500,Loss:1.0047965049743652,Accuracy:81.3\n",
            "Iter:600,Loss:0.8878462314605713,Accuracy:81.86\n",
            "Epoc: 8\n",
            "Iter:100,Loss:0.8817411065101624,Accuracy:82.08\n",
            "Iter:200,Loss:0.9251430630683899,Accuracy:81.95\n",
            "Iter:300,Loss:0.9082807898521423,Accuracy:81.92\n",
            "Iter:400,Loss:0.9767155647277832,Accuracy:82.23\n",
            "Iter:500,Loss:0.9513183832168579,Accuracy:82.21000000000001\n",
            "Iter:600,Loss:0.8493467569351196,Accuracy:82.73\n",
            "Epoc: 9\n",
            "Iter:100,Loss:0.8242568969726562,Accuracy:82.71\n",
            "Iter:200,Loss:0.7536685466766357,Accuracy:82.89\n",
            "Iter:300,Loss:0.8777822852134705,Accuracy:82.93\n",
            "Iter:400,Loss:0.8690555691719055,Accuracy:83.25\n",
            "Iter:500,Loss:0.7685146331787109,Accuracy:83.54\n",
            "Iter:600,Loss:0.8181694746017456,Accuracy:83.59\n"
          ],
          "name": "stdout"
        }
      ]
    },
    {
      "cell_type": "code",
      "metadata": {
        "id": "z_rgxpiiuSSO",
        "colab_type": "code",
        "colab": {}
      },
      "source": [
        ""
      ],
      "execution_count": 0,
      "outputs": []
    }
  ]
}