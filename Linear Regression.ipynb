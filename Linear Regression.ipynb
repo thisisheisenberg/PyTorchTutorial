{
 "cells": [
  {
   "cell_type": "code",
   "execution_count": 22,
   "metadata": {
    "ExecuteTime": {
     "end_time": "2019-07-18T06:27:09.762822Z",
     "start_time": "2019-07-18T06:27:09.715203Z"
    }
   },
   "outputs": [],
   "source": [
    "import torch\n",
    "import torch.nn as nn\n",
    "from torch.autograd import Variable\n",
    "import matplotlib.pyplot as plt\n",
    "%matplotlib inline"
   ]
  },
  {
   "cell_type": "markdown",
   "metadata": {},
   "source": [
    "#### Simple Linear regression Implementation"
   ]
  },
  {
   "cell_type": "code",
   "execution_count": 7,
   "metadata": {
    "ExecuteTime": {
     "end_time": "2019-07-18T06:24:48.818375Z",
     "start_time": "2019-07-18T06:24:48.813248Z"
    }
   },
   "outputs": [],
   "source": [
    "X = torch.randn(20).reshape(-1,1)"
   ]
  },
  {
   "cell_type": "code",
   "execution_count": 8,
   "metadata": {
    "ExecuteTime": {
     "end_time": "2019-07-18T06:24:49.476625Z",
     "start_time": "2019-07-18T06:24:49.469636Z"
    }
   },
   "outputs": [
    {
     "data": {
      "text/plain": [
       "torch.Size([20, 1])"
      ]
     },
     "execution_count": 8,
     "metadata": {},
     "output_type": "execute_result"
    }
   ],
   "source": [
    "X.shape"
   ]
  },
  {
   "cell_type": "code",
   "execution_count": 15,
   "metadata": {
    "ExecuteTime": {
     "end_time": "2019-07-18T06:26:08.447230Z",
     "start_time": "2019-07-18T06:26:08.443514Z"
    }
   },
   "outputs": [],
   "source": [
    "WX = torch.mul(X,torch.randn(20).reshape(-1,1))"
   ]
  },
  {
   "cell_type": "code",
   "execution_count": 16,
   "metadata": {
    "ExecuteTime": {
     "end_time": "2019-07-18T06:26:08.881221Z",
     "start_time": "2019-07-18T06:26:08.874675Z"
    }
   },
   "outputs": [
    {
     "data": {
      "text/plain": [
       "torch.Size([20, 1])"
      ]
     },
     "execution_count": 16,
     "metadata": {},
     "output_type": "execute_result"
    }
   ],
   "source": [
    "WX.shape"
   ]
  },
  {
   "cell_type": "code",
   "execution_count": 17,
   "metadata": {
    "ExecuteTime": {
     "end_time": "2019-07-18T06:26:24.492169Z",
     "start_time": "2019-07-18T06:26:24.486693Z"
    }
   },
   "outputs": [],
   "source": [
    "B = torch.randn(20).reshape(-1,1)"
   ]
  },
  {
   "cell_type": "code",
   "execution_count": 18,
   "metadata": {
    "ExecuteTime": {
     "end_time": "2019-07-18T06:26:34.390156Z",
     "start_time": "2019-07-18T06:26:34.386742Z"
    }
   },
   "outputs": [],
   "source": [
    "Y = torch.add(WX,B)"
   ]
  },
  {
   "cell_type": "code",
   "execution_count": 19,
   "metadata": {
    "ExecuteTime": {
     "end_time": "2019-07-18T06:26:38.551684Z",
     "start_time": "2019-07-18T06:26:38.546201Z"
    }
   },
   "outputs": [
    {
     "data": {
      "text/plain": [
       "torch.Size([20, 1])"
      ]
     },
     "execution_count": 19,
     "metadata": {},
     "output_type": "execute_result"
    }
   ],
   "source": [
    "Y.shape"
   ]
  },
  {
   "cell_type": "code",
   "execution_count": 24,
   "metadata": {
    "ExecuteTime": {
     "end_time": "2019-07-18T06:27:42.746016Z",
     "start_time": "2019-07-18T06:27:42.456994Z"
    }
   },
   "outputs": [
    {
     "data": {
      "image/png": "[encoded data removed]",
      "text/plain": [
       "<Figure size 432x288 with 1 Axes>"
      ]
     },
     "metadata": {
      "needs_background": "light"
     },
     "output_type": "display_data"
    }
   ],
   "source": [
    "plt.scatter(X,Y)\n",
    "plt.show()"
   ]
  },
  {
   "cell_type": "code",
   "execution_count": 40,
   "metadata": {
    "ExecuteTime": {
     "end_time": "2019-07-18T06:47:16.502535Z",
     "start_time": "2019-07-18T06:47:16.498956Z"
    }
   },
   "outputs": [],
   "source": [
    "class LinearRegression(nn.Module):\n",
    "    \n",
    "    def __init__(self,indim,outdim):\n",
    "        \n",
    "        super(LinearRegression,self).__init__()\n",
    "        self.Linear = nn.Linear(indim,outdim,bias=False)\n",
    "        \n",
    "    \n",
    "    def forward(self,X):\n",
    "        \n",
    "        out = self.Linear(X)\n",
    "        return out"
   ]
  },
  {
   "cell_type": "code",
   "execution_count": 41,
   "metadata": {
    "ExecuteTime": {
     "end_time": "2019-07-18T06:47:17.263591Z",
     "start_time": "2019-07-18T06:47:17.260279Z"
    }
   },
   "outputs": [],
   "source": [
    "indim = 1\n",
    "outdim = 1"
   ]
  },
  {
   "cell_type": "code",
   "execution_count": 42,
   "metadata": {
    "ExecuteTime": {
     "end_time": "2019-07-18T06:47:17.556482Z",
     "start_time": "2019-07-18T06:47:17.553221Z"
    }
   },
   "outputs": [],
   "source": [
    "lr = LinearRegression(indim,outdim)"
   ]
  },
  {
   "cell_type": "code",
   "execution_count": 43,
   "metadata": {
    "ExecuteTime": {
     "end_time": "2019-07-18T06:47:17.845198Z",
     "start_time": "2019-07-18T06:47:17.841947Z"
    }
   },
   "outputs": [],
   "source": [
    "mse = nn.MSELoss()\n",
    "optim = torch.optim.SGD(lr.parameters(),lr=0.001)"
   ]
  },
  {
   "cell_type": "code",
   "execution_count": 60,
   "metadata": {
    "ExecuteTime": {
     "end_time": "2019-07-18T07:29:21.349765Z",
     "start_time": "2019-07-18T07:29:21.156649Z"
    }
   },
   "outputs": [
    {
     "name": "stdout",
     "output_type": "stream",
     "text": [
      "Epoc:0,Loss:2.3027234077453613\n",
      "Epoc:1,Loss:2.301511764526367\n",
      "Epoc:2,Loss:2.300304651260376\n",
      "Epoc:3,Loss:2.299102544784546\n",
      "Epoc:4,Loss:2.2979044914245605\n",
      "Epoc:5,Loss:2.2967114448547363\n",
      "Epoc:6,Loss:2.295522689819336\n",
      "Epoc:7,Loss:2.2943387031555176\n",
      "Epoc:8,Loss:2.293159246444702\n",
      "Epoc:9,Loss:2.2919843196868896\n",
      "Epoc:10,Loss:2.29081392288208\n",
      "Epoc:11,Loss:2.2896480560302734\n",
      "Epoc:12,Loss:2.2884864807128906\n",
      "Epoc:13,Loss:2.2873294353485107\n",
      "Epoc:14,Loss:2.286176919937134\n",
      "Epoc:15,Loss:2.2850286960601807\n",
      "Epoc:16,Loss:2.2838850021362305\n",
      "Epoc:17,Loss:2.282745361328125\n",
      "Epoc:18,Loss:2.2816104888916016\n",
      "Epoc:19,Loss:2.280479907989502\n",
      "Epoc:20,Loss:2.279353380203247\n",
      "Epoc:21,Loss:2.278231382369995\n",
      "Epoc:22,Loss:2.277113676071167\n",
      "Epoc:23,Loss:2.2760002613067627\n",
      "Epoc:24,Loss:2.2748911380767822\n",
      "Epoc:25,Loss:2.2737860679626465\n",
      "Epoc:26,Loss:2.2726855278015137\n",
      "Epoc:27,Loss:2.2715890407562256\n",
      "Epoc:28,Loss:2.2704970836639404\n",
      "Epoc:29,Loss:2.269408941268921\n",
      "Epoc:30,Loss:2.268324851989746\n",
      "Epoc:31,Loss:2.267245292663574\n",
      "Epoc:32,Loss:2.266169548034668\n",
      "Epoc:33,Loss:2.2650983333587646\n",
      "Epoc:34,Loss:2.264030933380127\n",
      "Epoc:35,Loss:2.262967824935913\n",
      "Epoc:36,Loss:2.261908531188965\n",
      "Epoc:37,Loss:2.2608532905578613\n",
      "Epoc:38,Loss:2.2598023414611816\n",
      "Epoc:39,Loss:2.2587554454803467\n",
      "Epoc:40,Loss:2.2577121257781982\n",
      "Epoc:41,Loss:2.2566733360290527\n",
      "Epoc:42,Loss:2.255638360977173\n",
      "Epoc:43,Loss:2.2546072006225586\n",
      "Epoc:44,Loss:2.253580093383789\n",
      "Epoc:45,Loss:2.2525570392608643\n",
      "Epoc:46,Loss:2.251537561416626\n",
      "Epoc:47,Loss:2.2505223751068115\n",
      "Epoc:48,Loss:2.2495110034942627\n",
      "Epoc:49,Loss:2.2485034465789795\n",
      "Epoc:50,Loss:2.247499704360962\n",
      "Epoc:51,Loss:2.24649977684021\n",
      "Epoc:52,Loss:2.2455039024353027\n",
      "Epoc:53,Loss:2.244511604309082\n",
      "Epoc:54,Loss:2.243523597717285\n",
      "Epoc:55,Loss:2.2425386905670166\n",
      "Epoc:56,Loss:2.2415578365325928\n",
      "Epoc:57,Loss:2.2405807971954346\n",
      "Epoc:58,Loss:2.239607572555542\n",
      "Epoc:59,Loss:2.238637924194336\n",
      "Epoc:60,Loss:2.2376723289489746\n",
      "Epoc:61,Loss:2.2367100715637207\n",
      "Epoc:62,Loss:2.2357516288757324\n",
      "Epoc:63,Loss:2.2347967624664307\n",
      "Epoc:64,Loss:2.2338457107543945\n",
      "Epoc:65,Loss:2.232898235321045\n",
      "Epoc:66,Loss:2.231954336166382\n",
      "Epoc:67,Loss:2.2310142517089844\n",
      "Epoc:68,Loss:2.2300775051116943\n",
      "Epoc:69,Loss:2.22914457321167\n",
      "Epoc:70,Loss:2.228215217590332\n",
      "Epoc:71,Loss:2.2272894382476807\n",
      "Epoc:72,Loss:2.2263669967651367\n",
      "Epoc:73,Loss:2.2254483699798584\n",
      "Epoc:74,Loss:2.2245328426361084\n",
      "Epoc:75,Loss:2.223621368408203\n",
      "Epoc:76,Loss:2.222712993621826\n",
      "Epoc:77,Loss:2.2218081951141357\n",
      "Epoc:78,Loss:2.2209067344665527\n",
      "Epoc:79,Loss:2.2200090885162354\n",
      "Epoc:80,Loss:2.2191147804260254\n",
      "Epoc:81,Loss:2.218223810195923\n",
      "Epoc:82,Loss:2.2173359394073486\n",
      "Epoc:83,Loss:2.216452121734619\n",
      "Epoc:84,Loss:2.215571165084839\n",
      "Epoc:85,Loss:2.214694023132324\n",
      "Epoc:86,Loss:2.213819980621338\n",
      "Epoc:87,Loss:2.21294903755188\n",
      "Epoc:88,Loss:2.2120819091796875\n",
      "Epoc:89,Loss:2.2112178802490234\n",
      "Epoc:90,Loss:2.210357189178467\n",
      "Epoc:91,Loss:2.2094998359680176\n",
      "Epoc:92,Loss:2.208645820617676\n",
      "Epoc:93,Loss:2.2077949047088623\n",
      "Epoc:94,Loss:2.2069473266601562\n",
      "Epoc:95,Loss:2.2061030864715576\n",
      "Epoc:96,Loss:2.2052621841430664\n",
      "Epoc:97,Loss:2.2044241428375244\n",
      "Epoc:98,Loss:2.203589677810669\n",
      "Epoc:99,Loss:2.202758312225342\n",
      "Epoc:100,Loss:2.201930046081543\n",
      "Epoc:101,Loss:2.2011048793792725\n",
      "Epoc:102,Loss:2.2002830505371094\n",
      "Epoc:103,Loss:2.1994643211364746\n",
      "Epoc:104,Loss:2.198648691177368\n",
      "Epoc:105,Loss:2.197836399078369\n",
      "Epoc:106,Loss:2.1970269680023193\n",
      "Epoc:107,Loss:2.196220636367798\n",
      "Epoc:108,Loss:2.195417642593384\n",
      "Epoc:109,Loss:2.194617509841919\n",
      "Epoc:110,Loss:2.1938204765319824\n",
      "Epoc:111,Loss:2.193026542663574\n",
      "Epoc:112,Loss:2.1922357082366943\n",
      "Epoc:113,Loss:2.1914477348327637\n",
      "Epoc:114,Loss:2.1906628608703613\n",
      "Epoc:115,Loss:2.1898810863494873\n",
      "Epoc:116,Loss:2.1891021728515625\n",
      "Epoc:117,Loss:2.188326358795166\n",
      "Epoc:118,Loss:2.187553644180298\n",
      "Epoc:119,Loss:2.1867835521698\n",
      "Epoc:120,Loss:2.18601655960083\n",
      "Epoc:121,Loss:2.1852526664733887\n",
      "Epoc:122,Loss:2.1844916343688965\n",
      "Epoc:123,Loss:2.1837334632873535\n",
      "Epoc:124,Loss:2.1829781532287598\n",
      "Epoc:125,Loss:2.1822257041931152\n",
      "Epoc:126,Loss:2.18147611618042\n",
      "Epoc:127,Loss:2.180729627609253\n",
      "Epoc:128,Loss:2.179986000061035\n",
      "Epoc:129,Loss:2.1792449951171875\n",
      "Epoc:130,Loss:2.178507089614868\n",
      "Epoc:131,Loss:2.177771806716919\n",
      "Epoc:132,Loss:2.177039384841919\n",
      "Epoc:133,Loss:2.176309823989868\n",
      "Epoc:134,Loss:2.1755831241607666\n",
      "Epoc:135,Loss:2.174859046936035\n",
      "Epoc:136,Loss:2.174137830734253\n",
      "Epoc:137,Loss:2.17341947555542\n",
      "Epoc:138,Loss:2.172703742980957\n",
      "Epoc:139,Loss:2.1719908714294434\n",
      "Epoc:140,Loss:2.1712803840637207\n",
      "Epoc:141,Loss:2.1705732345581055\n",
      "Epoc:142,Loss:2.1698684692382812\n",
      "Epoc:143,Loss:2.169166088104248\n",
      "Epoc:144,Loss:2.168466806411743\n",
      "Epoc:145,Loss:2.1677699089050293\n",
      "Epoc:146,Loss:2.1670761108398438\n",
      "Epoc:147,Loss:2.166384696960449\n",
      "Epoc:148,Loss:2.165695905685425\n",
      "Epoc:149,Loss:2.1650099754333496\n",
      "Epoc:150,Loss:2.1643264293670654\n",
      "Epoc:151,Loss:2.1636457443237305\n",
      "Epoc:152,Loss:2.1629674434661865\n",
      "Epoc:153,Loss:2.1622917652130127\n",
      "Epoc:154,Loss:2.161618709564209\n",
      "Epoc:155,Loss:2.1609485149383545\n",
      "Epoc:156,Loss:2.160280466079712\n",
      "Epoc:157,Loss:2.1596152782440186\n",
      "Epoc:158,Loss:2.158952474594116\n",
      "Epoc:159,Loss:2.158292293548584\n",
      "Epoc:160,Loss:2.157634735107422\n",
      "Epoc:161,Loss:2.1569793224334717\n",
      "Epoc:162,Loss:2.1563267707824707\n",
      "Epoc:163,Loss:2.1556766033172607\n",
      "Epoc:164,Loss:2.155029058456421\n",
      "Epoc:165,Loss:2.154383897781372\n",
      "Epoc:166,Loss:2.1537411212921143\n",
      "Epoc:167,Loss:2.1531012058258057\n",
      "Epoc:168,Loss:2.15246319770813\n",
      "Epoc:169,Loss:2.1518280506134033\n",
      "Epoc:170,Loss:2.1511952877044678\n",
      "Epoc:171,Loss:2.150564670562744\n",
      "Epoc:172,Loss:2.1499364376068115\n",
      "Epoc:173,Loss:2.149311065673828\n",
      "Epoc:174,Loss:2.1486878395080566\n",
      "Epoc:175,Loss:2.148066759109497\n",
      "Epoc:176,Loss:2.1474483013153076\n",
      "Epoc:177,Loss:2.1468324661254883\n",
      "Epoc:178,Loss:2.1462185382843018\n",
      "Epoc:179,Loss:2.1456072330474854\n",
      "Epoc:180,Loss:2.14499831199646\n",
      "Epoc:181,Loss:2.1443915367126465\n",
      "Epoc:182,Loss:2.143787384033203\n",
      "Epoc:183,Loss:2.1431851387023926\n",
      "Epoc:184,Loss:2.142585277557373\n",
      "Epoc:185,Loss:2.1419880390167236\n",
      "Epoc:186,Loss:2.141392946243286\n",
      "Epoc:187,Loss:2.1407999992370605\n",
      "Epoc:188,Loss:2.140209436416626\n",
      "Epoc:189,Loss:2.1396210193634033\n",
      "Epoc:190,Loss:2.1390349864959717\n",
      "Epoc:191,Loss:2.138451337814331\n",
      "Epoc:192,Loss:2.1378695964813232\n",
      "Epoc:193,Loss:2.1372904777526855\n",
      "Epoc:194,Loss:2.1367132663726807\n",
      "Epoc:195,Loss:2.136138439178467\n",
      "Epoc:196,Loss:2.1355655193328857\n",
      "Epoc:197,Loss:2.134995222091675\n",
      "Epoc:198,Loss:2.1344268321990967\n",
      "Epoc:199,Loss:2.1338608264923096\n",
      "Epoc:200,Loss:2.1332967281341553\n",
      "Epoc:201,Loss:2.132735013961792\n",
      "Epoc:202,Loss:2.1321752071380615\n",
      "Epoc:203,Loss:2.131617784500122\n",
      "Epoc:204,Loss:2.1310622692108154\n",
      "Epoc:205,Loss:2.1305091381073\n",
      "Epoc:206,Loss:2.129957914352417\n",
      "Epoc:207,Loss:2.129408836364746\n",
      "Epoc:208,Loss:2.128862142562866\n",
      "Epoc:209,Loss:2.128317356109619\n",
      "Epoc:210,Loss:2.127774477005005\n",
      "Epoc:211,Loss:2.1272339820861816\n",
      "Epoc:212,Loss:2.126695394515991\n",
      "Epoc:213,Loss:2.126159191131592\n",
      "Epoc:214,Loss:2.125624656677246\n",
      "Epoc:215,Loss:2.1250922679901123\n",
      "Epoc:216,Loss:2.1245617866516113\n",
      "Epoc:217,Loss:2.1240336894989014\n",
      "Epoc:218,Loss:2.123507499694824\n",
      "Epoc:219,Loss:2.122982978820801\n",
      "Epoc:220,Loss:2.1224608421325684\n",
      "Epoc:221,Loss:2.1219403743743896\n",
      "Epoc:222,Loss:2.121422290802002\n",
      "Epoc:223,Loss:2.120906114578247\n",
      "Epoc:224,Loss:2.120391845703125\n",
      "Epoc:225,Loss:2.1198794841766357\n",
      "Epoc:226,Loss:2.1193690299987793\n",
      "Epoc:227,Loss:2.118860960006714\n",
      "Epoc:228,Loss:2.118354320526123\n",
      "Epoc:229,Loss:2.117849826812744\n",
      "Epoc:230,Loss:2.117347240447998\n",
      "Epoc:231,Loss:2.116846799850464\n",
      "Epoc:232,Loss:2.1163480281829834\n",
      "Epoc:233,Loss:2.1158511638641357\n",
      "Epoc:234,Loss:2.1153564453125\n",
      "Epoc:235,Loss:2.114863395690918\n",
      "Epoc:236,Loss:2.1143722534179688\n",
      "Epoc:237,Loss:2.1138827800750732\n",
      "Epoc:238,Loss:2.1133956909179688\n",
      "Epoc:239,Loss:2.112910270690918\n",
      "Epoc:240,Loss:2.112426519393921\n",
      "Epoc:241,Loss:2.1119446754455566\n",
      "Epoc:242,Loss:2.111464738845825\n",
      "Epoc:243,Loss:2.1109867095947266\n",
      "Epoc:244,Loss:2.1105105876922607\n",
      "Epoc:245,Loss:2.1100361347198486\n",
      "Epoc:246,Loss:2.1095635890960693\n",
      "Epoc:247,Loss:2.1090927124023438\n",
      "Epoc:248,Loss:2.108623743057251\n",
      "Epoc:249,Loss:2.108156681060791\n",
      "Epoc:250,Loss:2.1076912879943848\n",
      "Epoc:251,Loss:2.1072278022766113\n",
      "Epoc:252,Loss:2.1067659854888916\n",
      "Epoc:253,Loss:2.1063058376312256\n",
      "Epoc:254,Loss:2.1058475971221924\n",
      "Epoc:255,Loss:2.105391025543213\n",
      "Epoc:256,Loss:2.104936361312866\n",
      "Epoc:257,Loss:2.1044833660125732\n",
      "Epoc:258,Loss:2.104031801223755\n",
      "Epoc:259,Loss:2.1035823822021484\n",
      "Epoc:260,Loss:2.1031346321105957\n",
      "Epoc:261,Loss:2.1026885509490967\n",
      "Epoc:262,Loss:2.1022441387176514\n",
      "Epoc:263,Loss:2.1018013954162598\n",
      "Epoc:264,Loss:2.101360559463501\n",
      "Epoc:265,Loss:2.100921154022217\n",
      "Epoc:266,Loss:2.1004836559295654\n",
      "Epoc:267,Loss:2.1000475883483887\n",
      "Epoc:268,Loss:2.0996134281158447\n",
      "Epoc:269,Loss:2.0991806983947754\n",
      "Epoc:270,Loss:2.0987496376037598\n",
      "Epoc:271,Loss:2.098320484161377\n",
      "Epoc:272,Loss:2.0978927612304688\n",
      "Epoc:273,Loss:2.0974667072296143\n",
      "Epoc:274,Loss:2.0970423221588135\n",
      "Epoc:275,Loss:2.0966196060180664\n",
      "Epoc:276,Loss:2.096198558807373\n",
      "Epoc:277,Loss:2.0957789421081543\n",
      "Epoc:278,Loss:2.0953609943389893\n",
      "Epoc:279,Loss:2.094944953918457\n",
      "Epoc:280,Loss:2.0945301055908203\n",
      "Epoc:281,Loss:2.0941169261932373\n",
      "Epoc:282,Loss:2.093705415725708\n",
      "Epoc:283,Loss:2.0932955741882324\n",
      "Epoc:284,Loss:2.0928871631622314\n",
      "Epoc:285,Loss:2.092480182647705\n",
      "Epoc:286,Loss:2.0920751094818115\n",
      "Epoc:287,Loss:2.0916714668273926\n",
      "Epoc:288,Loss:2.0912692546844482\n",
      "Epoc:289,Loss:2.0908687114715576\n",
      "Epoc:290,Loss:2.0904695987701416\n",
      "Epoc:291,Loss:2.0900721549987793\n",
      "Epoc:292,Loss:2.0896761417388916\n",
      "Epoc:293,Loss:2.0892815589904785\n",
      "Epoc:294,Loss:2.088888645172119\n",
      "Epoc:295,Loss:2.0884971618652344\n",
      "Epoc:296,Loss:2.088107109069824\n",
      "Epoc:297,Loss:2.0877187252044678\n",
      "Epoc:298,Loss:2.087331533432007\n",
      "Epoc:299,Loss:2.0869462490081787\n",
      "Epoc:300,Loss:2.086562156677246\n",
      "Epoc:301,Loss:2.086179733276367\n",
      "Epoc:302,Loss:2.085798501968384\n",
      "Epoc:303,Loss:2.085418939590454\n",
      "Epoc:304,Loss:2.08504056930542\n",
      "Epoc:305,Loss:2.0846641063690186\n",
      "Epoc:306,Loss:2.0842885971069336\n",
      "Epoc:307,Loss:2.0839149951934814\n",
      "Epoc:308,Loss:2.083542585372925\n",
      "Epoc:309,Loss:2.0831716060638428\n",
      "Epoc:310,Loss:2.0828020572662354\n",
      "Epoc:311,Loss:2.0824337005615234\n",
      "Epoc:312,Loss:2.0820672512054443\n",
      "Epoc:313,Loss:2.0817019939422607\n",
      "Epoc:314,Loss:2.0813381671905518\n",
      "Epoc:315,Loss:2.080975294113159\n",
      "Epoc:316,Loss:2.0806143283843994\n",
      "Epoc:317,Loss:2.080254554748535\n",
      "Epoc:318,Loss:2.0798962116241455\n",
      "Epoc:319,Loss:2.0795392990112305\n",
      "Epoc:320,Loss:2.079183578491211\n",
      "Epoc:321,Loss:2.078829526901245\n",
      "Epoc:322,Loss:2.078476667404175\n",
      "Epoc:323,Loss:2.078124761581421\n",
      "Epoc:324,Loss:2.0777747631073\n",
      "Epoc:325,Loss:2.077425956726074\n",
      "Epoc:326,Loss:2.077078342437744\n",
      "Epoc:327,Loss:2.0767321586608887\n",
      "Epoc:328,Loss:2.076387405395508\n",
      "Epoc:329,Loss:2.0760438442230225\n",
      "Epoc:330,Loss:2.0757017135620117\n",
      "Epoc:331,Loss:2.0753607749938965\n",
      "Epoc:332,Loss:2.075021266937256\n",
      "Epoc:333,Loss:2.0746829509735107\n",
      "Epoc:334,Loss:2.074345827102661\n",
      "Epoc:335,Loss:2.074010133743286\n",
      "Epoc:336,Loss:2.0736758708953857\n",
      "Epoc:337,Loss:2.0733425617218018\n",
      "Epoc:338,Loss:2.0730109214782715\n",
      "Epoc:339,Loss:2.0726802349090576\n",
      "Epoc:340,Loss:2.0723509788513184\n",
      "Epoc:341,Loss:2.0720229148864746\n",
      "Epoc:342,Loss:2.0716960430145264\n",
      "Epoc:343,Loss:2.0713706016540527\n",
      "Epoc:344,Loss:2.0710463523864746\n",
      "Epoc:345,Loss:2.070723295211792\n",
      "Epoc:346,Loss:2.070401430130005\n",
      "Epoc:347,Loss:2.0700809955596924\n",
      "Epoc:348,Loss:2.0697617530822754\n",
      "Epoc:349,Loss:2.069443464279175\n",
      "Epoc:350,Loss:2.069126605987549\n",
      "Epoc:351,Loss:2.0688109397888184\n",
      "Epoc:352,Loss:2.0684964656829834\n",
      "Epoc:353,Loss:2.068183183670044\n",
      "Epoc:354,Loss:2.067871332168579\n",
      "Epoc:355,Loss:2.0675604343414307\n",
      "Epoc:356,Loss:2.0672507286071777\n",
      "Epoc:357,Loss:2.0669422149658203\n",
      "Epoc:358,Loss:2.0666348934173584\n",
      "Epoc:359,Loss:2.066328763961792\n",
      "Epoc:360,Loss:2.066023826599121\n",
      "Epoc:361,Loss:2.0657200813293457\n",
      "Epoc:362,Loss:2.065417528152466\n",
      "Epoc:363,Loss:2.0651161670684814\n",
      "Epoc:364,Loss:2.0648157596588135\n",
      "Epoc:365,Loss:2.064516544342041\n",
      "Epoc:366,Loss:2.064218521118164\n",
      "Epoc:367,Loss:2.0639216899871826\n",
      "Epoc:368,Loss:2.0636260509490967\n",
      "Epoc:369,Loss:2.0633316040039062\n",
      "Epoc:370,Loss:2.063037872314453\n",
      "Epoc:371,Loss:2.0627458095550537\n",
      "Epoc:372,Loss:2.0624544620513916\n",
      "Epoc:373,Loss:2.062164545059204\n",
      "Epoc:374,Loss:2.061875343322754\n",
      "Epoc:375,Loss:2.0615875720977783\n",
      "Epoc:376,Loss:2.061300754547119\n",
      "Epoc:377,Loss:2.0610151290893555\n",
      "Epoc:378,Loss:2.060730457305908\n",
      "Epoc:379,Loss:2.0604469776153564\n",
      "Epoc:380,Loss:2.0601646900177\n",
      "Epoc:381,Loss:2.0598833560943604\n",
      "Epoc:382,Loss:2.059603214263916\n",
      "Epoc:383,Loss:2.059324026107788\n",
      "Epoc:384,Loss:2.0590460300445557\n",
      "Epoc:385,Loss:2.0587689876556396\n",
      "Epoc:386,Loss:2.058493137359619\n",
      "Epoc:387,Loss:2.058218240737915\n",
      "Epoc:388,Loss:2.0579442977905273\n",
      "Epoc:389,Loss:2.057671546936035\n",
      "Epoc:390,Loss:2.0573997497558594\n",
      "Epoc:391,Loss:2.057129144668579\n",
      "Epoc:392,Loss:2.0568594932556152\n",
      "Epoc:393,Loss:2.0565907955169678\n",
      "Epoc:394,Loss:2.056323289871216\n",
      "Epoc:395,Loss:2.056056499481201\n",
      "Epoc:396,Loss:2.055791139602661\n",
      "Epoc:397,Loss:2.0555264949798584\n",
      "Epoc:398,Loss:2.055263042449951\n",
      "Epoc:399,Loss:2.0550005435943604\n",
      "Epoc:400,Loss:2.054738998413086\n",
      "Epoc:401,Loss:2.054478645324707\n",
      "Epoc:402,Loss:2.0542192459106445\n",
      "Epoc:403,Loss:2.0539605617523193\n",
      "Epoc:404,Loss:2.0537030696868896\n",
      "Epoc:405,Loss:2.0534465312957764\n",
      "Epoc:406,Loss:2.0531911849975586\n",
      "Epoc:407,Loss:2.052936553955078\n",
      "Epoc:408,Loss:2.052682876586914\n",
      "Epoc:409,Loss:2.0524303913116455\n",
      "Epoc:410,Loss:2.0521786212921143\n",
      "Epoc:411,Loss:2.0519280433654785\n",
      "Epoc:412,Loss:2.051678419113159\n",
      "Epoc:413,Loss:2.051429510116577\n",
      "Epoc:414,Loss:2.0511817932128906\n",
      "Epoc:415,Loss:2.0509347915649414\n",
      "Epoc:416,Loss:2.0506889820098877\n",
      "Epoc:417,Loss:2.0504441261291504\n",
      "Epoc:418,Loss:2.0501999855041504\n",
      "Epoc:419,Loss:2.049957036972046\n",
      "Epoc:420,Loss:2.0497148036956787\n",
      "Epoc:421,Loss:2.049473524093628\n",
      "Epoc:422,Loss:2.0492334365844727\n",
      "Epoc:423,Loss:2.0489938259124756\n",
      "Epoc:424,Loss:2.048755407333374\n",
      "Epoc:425,Loss:2.048517942428589\n",
      "Epoc:426,Loss:2.04828143119812\n",
      "Epoc:427,Loss:2.0480456352233887\n",
      "Epoc:428,Loss:2.0478107929229736\n",
      "Epoc:429,Loss:2.047576904296875\n",
      "Epoc:430,Loss:2.0473437309265137\n",
      "Epoc:431,Loss:2.047111749649048\n",
      "Epoc:432,Loss:2.0468804836273193\n",
      "Epoc:433,Loss:2.0466501712799072\n",
      "Epoc:434,Loss:2.0464208126068115\n",
      "Epoc:435,Loss:2.046192169189453\n",
      "Epoc:436,Loss:2.045964479446411\n",
      "Epoc:437,Loss:2.0457377433776855\n",
      "Epoc:438,Loss:2.0455117225646973\n",
      "Epoc:439,Loss:2.0452864170074463\n",
      "Epoc:440,Loss:2.045062303543091\n",
      "Epoc:441,Loss:2.0448389053344727\n",
      "Epoc:442,Loss:2.044616460800171\n",
      "Epoc:443,Loss:2.0443947315216064\n",
      "Epoc:444,Loss:2.0441739559173584\n",
      "Epoc:445,Loss:2.0439538955688477\n",
      "Epoc:446,Loss:2.0437347888946533\n",
      "Epoc:447,Loss:2.0435166358947754\n",
      "Epoc:448,Loss:2.0432991981506348\n",
      "Epoc:449,Loss:2.0430824756622314\n",
      "Epoc:450,Loss:2.0428667068481445\n",
      "Epoc:451,Loss:2.042651891708374\n",
      "Epoc:452,Loss:2.0424375534057617\n",
      "Epoc:453,Loss:2.042224407196045\n",
      "Epoc:454,Loss:2.0420117378234863\n",
      "Epoc:455,Loss:2.0418002605438232\n",
      "Epoc:456,Loss:2.0415892601013184\n",
      "Epoc:457,Loss:2.04137921333313\n",
      "Epoc:458,Loss:2.041170120239258\n",
      "Epoc:459,Loss:2.040961503982544\n",
      "Epoc:460,Loss:2.0407540798187256\n",
      "Epoc:461,Loss:2.0405471324920654\n",
      "Epoc:462,Loss:2.0403409004211426\n",
      "Epoc:463,Loss:2.040135622024536\n",
      "Epoc:464,Loss:2.039931297302246\n",
      "Epoc:465,Loss:2.0397276878356934\n",
      "Epoc:466,Loss:2.039524555206299\n",
      "Epoc:467,Loss:2.0393226146698\n",
      "Epoc:468,Loss:2.039121150970459\n",
      "Epoc:469,Loss:2.0389206409454346\n",
      "Epoc:470,Loss:2.0387208461761475\n",
      "Epoc:471,Loss:2.0385217666625977\n",
      "Epoc:472,Loss:2.038323402404785\n",
      "Epoc:473,Loss:2.038125991821289\n",
      "Epoc:474,Loss:2.037929058074951\n",
      "Epoc:475,Loss:2.0377330780029297\n",
      "Epoc:476,Loss:2.0375378131866455\n",
      "Epoc:477,Loss:2.0373432636260986\n",
      "Epoc:478,Loss:2.037149667739868\n",
      "Epoc:479,Loss:2.036956548690796\n",
      "Epoc:480,Loss:2.036764144897461\n",
      "Epoc:481,Loss:2.0365726947784424\n",
      "Epoc:482,Loss:2.036381959915161\n",
      "Epoc:483,Loss:2.036191701889038\n",
      "Epoc:484,Loss:2.0360023975372314\n",
      "Epoc:485,Loss:2.035814046859741\n",
      "Epoc:486,Loss:2.03562593460083\n",
      "Epoc:487,Loss:2.0354387760162354\n",
      "Epoc:488,Loss:2.035252332687378\n",
      "Epoc:489,Loss:2.035066604614258\n",
      "Epoc:490,Loss:2.034881591796875\n",
      "Epoc:491,Loss:2.0346972942352295\n",
      "Epoc:492,Loss:2.0345137119293213\n",
      "Epoc:493,Loss:2.0343308448791504\n",
      "Epoc:494,Loss:2.0341484546661377\n",
      "Epoc:495,Loss:2.0339670181274414\n",
      "Epoc:496,Loss:2.0337860584259033\n",
      "Epoc:497,Loss:2.0336060523986816\n",
      "Epoc:498,Loss:2.033426523208618\n",
      "Epoc:499,Loss:2.033247947692871\n"
     ]
    }
   ],
   "source": [
    "epoc = 500\n",
    "\n",
    "for i in range(epoc):\n",
    "    \n",
    "    Y_hat = lr.forward(X)\n",
    "    optim.zero_grad()\n",
    "    loss = mse(Y_hat,Y)\n",
    "    loss.backward()\n",
    "    optim.step()\n",
    "    print(\"Epoc:{},Loss:{}\".format(i,loss))"
   ]
  },
  {
   "cell_type": "code",
   "execution_count": 61,
   "metadata": {
    "ExecuteTime": {
     "end_time": "2019-07-18T07:29:35.708447Z",
     "start_time": "2019-07-18T07:29:35.705267Z"
    }
   },
   "outputs": [],
   "source": [
    "Y_Pred = lr.forward(X)"
   ]
  },
  {
   "cell_type": "code",
   "execution_count": 62,
   "metadata": {
    "ExecuteTime": {
     "end_time": "2019-07-18T07:29:36.352381Z",
     "start_time": "2019-07-18T07:29:36.346694Z"
    }
   },
   "outputs": [
    {
     "data": {
      "text/plain": [
       "tensor([[-0.0593],\n",
       "        [-0.0019],\n",
       "        [-0.1428],\n",
       "        [-0.1120],\n",
       "        [-0.2160],\n",
       "        [-0.0612],\n",
       "        [-0.3046],\n",
       "        [-0.0922],\n",
       "        [-0.0409],\n",
       "        [ 0.0056],\n",
       "        [ 0.0410],\n",
       "        [ 0.0673],\n",
       "        [ 0.2495],\n",
       "        [ 0.1064],\n",
       "        [-0.0224],\n",
       "        [-0.0542],\n",
       "        [ 0.0233],\n",
       "        [ 0.0648],\n",
       "        [ 0.1022],\n",
       "        [-0.0819]], grad_fn=<MmBackward>)"
      ]
     },
     "execution_count": 62,
     "metadata": {},
     "output_type": "execute_result"
    }
   ],
   "source": [
    "Y_Pred"
   ]
  },
  {
   "cell_type": "code",
   "execution_count": 63,
   "metadata": {
    "ExecuteTime": {
     "end_time": "2019-07-18T07:29:38.285408Z",
     "start_time": "2019-07-18T07:29:38.083158Z"
    }
   },
   "outputs": [
    {
     "data": {
      "image/png": "[encoded data removed]",
      "text/plain": [
       "<Figure size 432x288 with 1 Axes>"
      ]
     },
     "metadata": {
      "needs_background": "light"
     },
     "output_type": "display_data"
    }
   ],
   "source": [
    "plt.plot(X.numpy(),Y.numpy(),'go',label='True Data')\n",
    "plt.plot(X.numpy(),Y_Pred.detach().numpy(),'--',label='Pred Data')\n",
    "plt.show()"
   ]
  }
 ],
 "metadata": {
  "kernelspec": {
   "display_name": "Python 3",
   "language": "python",
   "name": "python3"
  },
  "language_info": {
   "codemirror_mode": {
    "name": "ipython",
    "version": 3
   },
   "file_extension": ".py",
   "mimetype": "text/x-python",
   "name": "python",
   "nbconvert_exporter": "python",
   "pygments_lexer": "ipython3",
   "version": "3.5.6"
  },
  "varInspector": {
   "cols": {
    "lenName": 16,
    "lenType": 16,
    "lenVar": 40
   },
   "kernels_config": {
    "python": {
     "delete_cmd_postfix": "",
     "delete_cmd_prefix": "del ",
     "library": "var_list.py",
     "varRefreshCmd": "print(var_dic_list())"
    },
    "r": {
     "delete_cmd_postfix": ") ",
     "delete_cmd_prefix": "rm(",
     "library": "var_list.r",
     "varRefreshCmd": "cat(var_dic_list()) "
    }
   },
   "types_to_exclude": [
    "module",
    "function",
    "builtin_function_or_method",
    "instance",
    "_Feature"
   ],
   "window_display": false
  }
 },
 "nbformat": 4,
 "nbformat_minor": 2
}
