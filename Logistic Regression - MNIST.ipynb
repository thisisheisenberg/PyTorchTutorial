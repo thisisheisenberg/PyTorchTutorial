{
 "cells": [
  {
   "cell_type": "code",
   "execution_count": 9,
   "metadata": {
    "ExecuteTime": {
     "end_time": "2019-07-19T06:47:42.255733Z",
     "start_time": "2019-07-19T06:47:38.301397Z"
    }
   },
   "outputs": [],
   "source": [
    "import torch\n",
    "import torch.nn as nn\n",
    "from torch.autograd import Variable\n",
    "import torchvision.datasets as dseta\n",
    "import torchvision.transforms as transform\n",
    "import matplotlib.pyplot as plt\n",
    "%matplotlib inline"
   ]
  },
  {
   "cell_type": "markdown",
   "metadata": {},
   "source": [
    "### Loading Trainning and Testing Data"
   ]
  },
  {
   "cell_type": "code",
   "execution_count": 4,
   "metadata": {
    "ExecuteTime": {
     "end_time": "2019-07-19T06:44:43.840310Z",
     "start_time": "2019-07-19T06:44:24.286197Z"
    }
   },
   "outputs": [
    {
     "name": "stdout",
     "output_type": "stream",
     "text": [
      "Downloading http://yann.lecun.com/exdb/mnist/train-images-idx3-ubyte.gz to ./Data/MNIST/raw/train-images-idx3-ubyte.gz\n"
     ]
    },
    {
     "name": "stderr",
     "output_type": "stream",
     "text": [
      "100.1%"
     ]
    },
    {
     "name": "stdout",
     "output_type": "stream",
     "text": [
      "Extracting ./Data/MNIST/raw/train-images-idx3-ubyte.gz\n",
      "Downloading http://yann.lecun.com/exdb/mnist/train-labels-idx1-ubyte.gz to ./Data/MNIST/raw/train-labels-idx1-ubyte.gz\n"
     ]
    },
    {
     "name": "stderr",
     "output_type": "stream",
     "text": [
      "113.5%"
     ]
    },
    {
     "name": "stdout",
     "output_type": "stream",
     "text": [
      "Extracting ./Data/MNIST/raw/train-labels-idx1-ubyte.gz\n",
      "Downloading http://yann.lecun.com/exdb/mnist/t10k-images-idx3-ubyte.gz to ./Data/MNIST/raw/t10k-images-idx3-ubyte.gz\n"
     ]
    },
    {
     "name": "stderr",
     "output_type": "stream",
     "text": [
      "100.4%"
     ]
    },
    {
     "name": "stdout",
     "output_type": "stream",
     "text": [
      "Extracting ./Data/MNIST/raw/t10k-images-idx3-ubyte.gz\n",
      "Downloading http://yann.lecun.com/exdb/mnist/t10k-labels-idx1-ubyte.gz to ./Data/MNIST/raw/t10k-labels-idx1-ubyte.gz\n"
     ]
    },
    {
     "name": "stderr",
     "output_type": "stream",
     "text": [
      "180.4%"
     ]
    },
    {
     "name": "stdout",
     "output_type": "stream",
     "text": [
      "Extracting ./Data/MNIST/raw/t10k-labels-idx1-ubyte.gz\n",
      "Processing...\n",
      "Done!\n"
     ]
    }
   ],
   "source": [
    "train_data = dseta.MNIST(root = './Data',transform=transform.ToTensor(),download= True)"
   ]
  },
  {
   "cell_type": "code",
   "execution_count": 5,
   "metadata": {
    "ExecuteTime": {
     "end_time": "2019-07-19T06:44:56.337097Z",
     "start_time": "2019-07-19T06:44:56.331331Z"
    }
   },
   "outputs": [],
   "source": [
    "test_data = dseta.MNIST(root = './Data',transform=transform.ToTensor(),download= True,train=False)"
   ]
  },
  {
   "cell_type": "code",
   "execution_count": 6,
   "metadata": {
    "ExecuteTime": {
     "end_time": "2019-07-19T06:45:04.967045Z",
     "start_time": "2019-07-19T06:45:04.954415Z"
    },
    "cell_style": "split"
   },
   "outputs": [
    {
     "data": {
      "text/plain": [
       "60000"
      ]
     },
     "execution_count": 6,
     "metadata": {},
     "output_type": "execute_result"
    }
   ],
   "source": [
    "len(train_data)"
   ]
  },
  {
   "cell_type": "code",
   "execution_count": 7,
   "metadata": {
    "ExecuteTime": {
     "end_time": "2019-07-19T06:46:13.319207Z",
     "start_time": "2019-07-19T06:46:13.315037Z"
    },
    "cell_style": "split"
   },
   "outputs": [
    {
     "data": {
      "text/plain": [
       "10000"
      ]
     },
     "execution_count": 7,
     "metadata": {},
     "output_type": "execute_result"
    }
   ],
   "source": [
    "len(test_data)"
   ]
  },
  {
   "cell_type": "markdown",
   "metadata": {},
   "source": [
    "### Exploring Train and Test Data"
   ]
  },
  {
   "cell_type": "code",
   "execution_count": 13,
   "metadata": {
    "ExecuteTime": {
     "end_time": "2019-07-19T06:48:12.614980Z",
     "start_time": "2019-07-19T06:48:12.610440Z"
    },
    "cell_style": "split"
   },
   "outputs": [
    {
     "data": {
      "text/plain": [
       "tuple"
      ]
     },
     "execution_count": 13,
     "metadata": {},
     "output_type": "execute_result"
    }
   ],
   "source": [
    "type(train_data[0])"
   ]
  },
  {
   "cell_type": "code",
   "execution_count": 14,
   "metadata": {
    "ExecuteTime": {
     "end_time": "2019-07-19T06:48:22.001365Z",
     "start_time": "2019-07-19T06:48:21.995301Z"
    },
    "cell_style": "split"
   },
   "outputs": [
    {
     "data": {
      "text/plain": [
       "2"
      ]
     },
     "execution_count": 14,
     "metadata": {},
     "output_type": "execute_result"
    }
   ],
   "source": [
    "len(train_data[0])"
   ]
  },
  {
   "cell_type": "code",
   "execution_count": 16,
   "metadata": {
    "ExecuteTime": {
     "end_time": "2019-07-19T06:48:43.290841Z",
     "start_time": "2019-07-19T06:48:43.284069Z"
    },
    "cell_style": "split"
   },
   "outputs": [
    {
     "data": {
      "text/plain": [
       "(1, 28, 28)"
      ]
     },
     "execution_count": 16,
     "metadata": {},
     "output_type": "execute_result"
    }
   ],
   "source": [
    "train_data[0][0].numpy().shape"
   ]
  },
  {
   "cell_type": "code",
   "execution_count": 19,
   "metadata": {
    "ExecuteTime": {
     "end_time": "2019-07-19T06:49:02.924703Z",
     "start_time": "2019-07-19T06:49:02.920352Z"
    },
    "cell_style": "split"
   },
   "outputs": [
    {
     "data": {
      "text/plain": [
       "5"
      ]
     },
     "execution_count": 19,
     "metadata": {},
     "output_type": "execute_result"
    }
   ],
   "source": [
    "train_data[0][1]"
   ]
  },
  {
   "cell_type": "code",
   "execution_count": 23,
   "metadata": {
    "ExecuteTime": {
     "end_time": "2019-07-19T06:50:37.254143Z",
     "start_time": "2019-07-19T06:50:37.072705Z"
    },
    "cell_style": "split"
   },
   "outputs": [
    {
     "data": {
      "text/plain": [
       "<matplotlib.image.AxesImage at 0x12da5d860>"
      ]
     },
     "execution_count": 23,
     "metadata": {},
     "output_type": "execute_result"
    },
    {
     "data": {
      "image/png": "[encoded data removed]",
      "text/plain": [
       "<Figure size 432x288 with 1 Axes>"
      ]
     },
     "metadata": {
      "needs_background": "light"
     },
     "output_type": "display_data"
    }
   ],
   "source": [
    "disp = train_data[0][0].numpy().reshape(28,28)\n",
    "plt.imshow(disp)"
   ]
  },
  {
   "cell_type": "code",
   "execution_count": 27,
   "metadata": {
    "ExecuteTime": {
     "end_time": "2019-07-19T06:52:15.566024Z",
     "start_time": "2019-07-19T06:52:15.562259Z"
    },
    "cell_style": "split"
   },
   "outputs": [
    {
     "name": "stdout",
     "output_type": "stream",
     "text": [
      "Label: 5\n"
     ]
    }
   ],
   "source": [
    "print(\"Label:\",train_data[0][1])"
   ]
  },
  {
   "cell_type": "code",
   "execution_count": 25,
   "metadata": {
    "ExecuteTime": {
     "end_time": "2019-07-19T06:51:27.022448Z",
     "start_time": "2019-07-19T06:51:26.845739Z"
    },
    "cell_style": "center"
   },
   "outputs": [
    {
     "data": {
      "text/plain": [
       "<matplotlib.image.AxesImage at 0x12db299e8>"
      ]
     },
     "execution_count": 25,
     "metadata": {},
     "output_type": "execute_result"
    },
    {
     "data": {
      "image/png": "[encoded data removed]",
      "text/plain": [
       "<Figure size 432x288 with 1 Axes>"
      ]
     },
     "metadata": {
      "needs_background": "light"
     },
     "output_type": "display_data"
    }
   ],
   "source": [
    "disp = test_data[0][0].numpy().reshape(28,28)\n",
    "plt.imshow(disp)"
   ]
  },
  {
   "cell_type": "code",
   "execution_count": 28,
   "metadata": {
    "ExecuteTime": {
     "end_time": "2019-07-19T06:52:18.486756Z",
     "start_time": "2019-07-19T06:52:18.482894Z"
    },
    "cell_style": "center"
   },
   "outputs": [
    {
     "name": "stdout",
     "output_type": "stream",
     "text": [
      "Label: 7\n"
     ]
    }
   ],
   "source": [
    "print(\"Label:\",test_data[0][1])"
   ]
  },
  {
   "cell_type": "markdown",
   "metadata": {},
   "source": [
    "### Creating Trainning Class"
   ]
  },
  {
   "cell_type": "code",
   "execution_count": 69,
   "metadata": {
    "ExecuteTime": {
     "end_time": "2019-07-19T09:24:39.098586Z",
     "start_time": "2019-07-19T09:24:39.094196Z"
    }
   },
   "outputs": [],
   "source": [
    "class LogisticRegression(nn.Module):\n",
    "    \n",
    "    def __init__(self,indim,outdim):\n",
    "        \n",
    "        super(LogisticRegression,self).__init__()\n",
    "        self.Linear = nn.Linear(indim,outdim)\n",
    "        \n",
    "    def forward(self,X):\n",
    "        out = self.Linear(X)\n",
    "        return out"
   ]
  },
  {
   "cell_type": "markdown",
   "metadata": {},
   "source": [
    "### Creating Iteratable DataSet Object"
   ]
  },
  {
   "cell_type": "code",
   "execution_count": 70,
   "metadata": {
    "ExecuteTime": {
     "end_time": "2019-07-19T09:24:42.431895Z",
     "start_time": "2019-07-19T09:24:42.428490Z"
    }
   },
   "outputs": [],
   "source": [
    "train_iter = torch.utils.data.DataLoader(dataset=train_data,batch_size=100,shuffle=True)\n",
    "test_iter = torch.utils.data.DataLoader(dataset=test_data,batch_size=100,shuffle=True)"
   ]
  },
  {
   "cell_type": "code",
   "execution_count": 71,
   "metadata": {
    "ExecuteTime": {
     "end_time": "2019-07-19T09:24:42.737372Z",
     "start_time": "2019-07-19T09:24:42.733512Z"
    }
   },
   "outputs": [],
   "source": [
    "indim = 28 * 28\n",
    "outdim = 10\n",
    "\n",
    "LogReg = LogisticRegression(indim,outdim)"
   ]
  },
  {
   "cell_type": "code",
   "execution_count": 72,
   "metadata": {
    "ExecuteTime": {
     "end_time": "2019-07-19T09:24:43.167218Z",
     "start_time": "2019-07-19T09:24:43.164011Z"
    }
   },
   "outputs": [],
   "source": [
    "c_loss = nn.CrossEntropyLoss()"
   ]
  },
  {
   "cell_type": "code",
   "execution_count": 73,
   "metadata": {
    "ExecuteTime": {
     "end_time": "2019-07-19T09:24:43.519373Z",
     "start_time": "2019-07-19T09:24:43.516074Z"
    }
   },
   "outputs": [],
   "source": [
    "optim = torch.optim.SGD(params=LogReg.parameters(),lr=0.001)"
   ]
  },
  {
   "cell_type": "code",
   "execution_count": 74,
   "metadata": {
    "ExecuteTime": {
     "end_time": "2019-07-19T09:24:44.199980Z",
     "start_time": "2019-07-19T09:24:44.196983Z"
    }
   },
   "outputs": [],
   "source": [
    "num_of_epoc = 5"
   ]
  },
  {
   "cell_type": "code",
   "execution_count": 79,
   "metadata": {
    "ExecuteTime": {
     "end_time": "2019-07-19T09:32:39.966079Z",
     "start_time": "2019-07-19T09:29:57.384587Z"
    }
   },
   "outputs": [
    {
     "name": "stdout",
     "output_type": "stream",
     "text": [
      "Total:10000,Correct:8415\n",
      "Step:0,Loss:0.844533383846283,accuracy:84\n",
      "Total:10000,Correct:8459\n",
      "Step:500,Loss:0.7881724834442139,accuracy:84\n",
      "Total:10000,Correct:8466\n",
      "Step:0,Loss:0.8595506548881531,accuracy:84\n",
      "Total:10000,Correct:8502\n",
      "Step:500,Loss:0.8086681365966797,accuracy:85\n",
      "Total:10000,Correct:8515\n",
      "Step:0,Loss:0.8215182423591614,accuracy:85\n",
      "Total:10000,Correct:8536\n",
      "Step:500,Loss:0.8578434586524963,accuracy:85\n",
      "Total:10000,Correct:8547\n",
      "Step:0,Loss:0.6601617336273193,accuracy:85\n",
      "Total:10000,Correct:8581\n",
      "Step:500,Loss:0.7317733764648438,accuracy:85\n",
      "Total:10000,Correct:8582\n",
      "Step:0,Loss:0.7376450896263123,accuracy:85\n",
      "Total:10000,Correct:8603\n",
      "Step:500,Loss:0.7030050754547119,accuracy:86\n"
     ]
    }
   ],
   "source": [
    "for epoc in range(num_of_epoc):\n",
    "    \n",
    "    for i,(image,label) in enumerate(train_iter):\n",
    "        \n",
    "        total = 0\n",
    "        correct = 0\n",
    "        \n",
    "        image = image.view(-1,28*28)\n",
    "        optim.zero_grad()\n",
    "        \n",
    "        output = LogReg.forward(image)\n",
    "        #print(output)\n",
    "        loss = c_loss(output,label)\n",
    "        \n",
    "        loss.backward()\n",
    "        \n",
    "        optim.step()\n",
    "        \n",
    "        if i % 500 == 0:\n",
    "            \n",
    "            for j,(image,label) in enumerate(test_iter):\n",
    "        \n",
    "                image = image.view(-1,28*28)\n",
    "                output = LogReg.forward(image)\n",
    "                _,pred = torch.max(output.data,1)\n",
    "                \n",
    "                total += label.size(0)\n",
    "                correct += (pred == label).sum()\n",
    "            \n",
    "            accuracy = 100 * correct / total\n",
    "            \n",
    "            print(\"Total:{},Correct:{}\".format(total,correct))\n",
    "            print(\"Step:{},Loss:{},accuracy:{}\".format(i,loss.data,accuracy))"
   ]
  },
  {
   "cell_type": "code",
   "execution_count": null,
   "metadata": {},
   "outputs": [],
   "source": []
  },
  {
   "cell_type": "code",
   "execution_count": null,
   "metadata": {},
   "outputs": [],
   "source": []
  }
 ],
 "metadata": {
  "kernelspec": {
   "display_name": "Python 3",
   "language": "python",
   "name": "python3"
  },
  "language_info": {
   "codemirror_mode": {
    "name": "ipython",
    "version": 3
   },
   "file_extension": ".py",
   "mimetype": "text/x-python",
   "name": "python",
   "nbconvert_exporter": "python",
   "pygments_lexer": "ipython3",
   "version": "3.5.6"
  },
  "varInspector": {
   "cols": {
    "lenName": 16,
    "lenType": 16,
    "lenVar": 40
   },
   "kernels_config": {
    "python": {
     "delete_cmd_postfix": "",
     "delete_cmd_prefix": "del ",
     "library": "var_list.py",
     "varRefreshCmd": "print(var_dic_list())"
    },
    "r": {
     "delete_cmd_postfix": ") ",
     "delete_cmd_prefix": "rm(",
     "library": "var_list.r",
     "varRefreshCmd": "cat(var_dic_list()) "
    }
   },
   "position": {
    "height": "439.716px",
    "left": "745.44px",
    "right": "20px",
    "top": "154.977px",
    "width": "786.179px"
   },
   "types_to_exclude": [
    "module",
    "function",
    "builtin_function_or_method",
    "instance",
    "_Feature"
   ],
   "window_display": false
  }
 },
 "nbformat": 4,
 "nbformat_minor": 2
}
