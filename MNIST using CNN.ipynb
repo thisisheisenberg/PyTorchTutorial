{
 "cells": [
  {
   "cell_type": "code",
   "execution_count": 1,
   "metadata": {
    "ExecuteTime": {
     "end_time": "2019-08-13T06:34:32.664071Z",
     "start_time": "2019-08-13T06:34:32.661036Z"
    }
   },
   "outputs": [],
   "source": [
    "import torch\n",
    "import torch.nn as nn\n",
    "import torchvision\n",
    "import torchvision.transforms as transforms"
   ]
  },
  {
   "cell_type": "code",
   "execution_count": 8,
   "metadata": {
    "ExecuteTime": {
     "end_time": "2019-08-13T06:44:02.654669Z",
     "start_time": "2019-08-13T06:44:02.651736Z"
    }
   },
   "outputs": [],
   "source": [
    "device = torch.device('cuda' if torch.cuda.is_available() else 'cpu')"
   ]
  },
  {
   "cell_type": "code",
   "execution_count": 2,
   "metadata": {
    "ExecuteTime": {
     "end_time": "2019-08-13T06:35:47.156068Z",
     "start_time": "2019-08-13T06:35:47.088188Z"
    }
   },
   "outputs": [],
   "source": [
    "train_data = torchvision.datasets.MNIST('data',transform=transforms.ToTensor(),train=True)\n",
    "test_data = torchvision.datasets.MNIST('data',transform=transforms.ToTensor(),train=False)"
   ]
  },
  {
   "cell_type": "markdown",
   "metadata": {
    "ExecuteTime": {
     "end_time": "2019-08-13T06:36:04.317660Z",
     "start_time": "2019-08-13T06:36:04.304757Z"
    }
   },
   "source": [
    "## Making Dataset Iteratable"
   ]
  },
  {
   "cell_type": "code",
   "execution_count": 6,
   "metadata": {
    "ExecuteTime": {
     "end_time": "2019-08-13T06:37:50.829788Z",
     "start_time": "2019-08-13T06:37:50.826451Z"
    }
   },
   "outputs": [],
   "source": [
    "train_loader = torch.utils.data.DataLoader(dataset=train_data,batch_size=100,shuffle=True)\n",
    "test_loader = torch.utils.data.DataLoader(dataset=test_data,batch_size=100,shuffle=False)"
   ]
  },
  {
   "cell_type": "markdown",
   "metadata": {},
   "source": [
    "## Building CNN class"
   ]
  },
  {
   "cell_type": "code",
   "execution_count": 17,
   "metadata": {
    "ExecuteTime": {
     "end_time": "2019-08-13T07:00:27.938454Z",
     "start_time": "2019-08-13T07:00:27.932975Z"
    }
   },
   "outputs": [],
   "source": [
    "class CNN(nn.Module):\n",
    "    \n",
    "    def __init__(self):\n",
    "        \n",
    "        super(CNN,self).__init__()\n",
    "        \n",
    "        self.layer1 = nn.Sequential(nn.Conv2d(in_channels=1,out_channels=16,kernel_size=5,padding=2),nn.ReLU(),nn.MaxPool2d(kernel_size=2))\n",
    "        self.layer2 = nn.Sequential(nn.Conv2d(in_channels=16,out_channels=32,kernel_size=5,padding=2),nn.ReLU(),nn.MaxPool2d(kernel_size=2))\n",
    "        self.fc1 = nn.Linear(32*7*7,10)\n",
    "        \n",
    "    def forward(self,X):\n",
    "        \n",
    "        out = self.layer1(X)\n",
    "        out = self.layer2(out)\n",
    "        out = out.reshape(out.size(0), -1)\n",
    "        out = self.fc1(out)\n",
    "        return out"
   ]
  },
  {
   "cell_type": "code",
   "execution_count": 18,
   "metadata": {
    "ExecuteTime": {
     "end_time": "2019-08-13T07:00:28.640409Z",
     "start_time": "2019-08-13T07:00:28.635195Z"
    }
   },
   "outputs": [],
   "source": [
    "model = CNN().to(device)"
   ]
  },
  {
   "cell_type": "markdown",
   "metadata": {},
   "source": [
    "## Defining loss function and optimizers"
   ]
  },
  {
   "cell_type": "code",
   "execution_count": 28,
   "metadata": {
    "ExecuteTime": {
     "end_time": "2019-08-13T07:10:29.974982Z",
     "start_time": "2019-08-13T07:10:29.970999Z"
    }
   },
   "outputs": [],
   "source": [
    "loss_func = torch.nn.CrossEntropyLoss()\n",
    "adam = torch.optim.Adam(model.parameters(),lr =0.001)"
   ]
  },
  {
   "cell_type": "markdown",
   "metadata": {},
   "source": [
    "## Trainning"
   ]
  },
  {
   "cell_type": "code",
   "execution_count": 29,
   "metadata": {
    "ExecuteTime": {
     "end_time": "2019-08-13T07:14:30.532340Z",
     "start_time": "2019-08-13T07:10:31.257900Z"
    }
   },
   "outputs": [
    {
     "name": "stdout",
     "output_type": "stream",
     "text": [
      "Epoch [1/5], Step [100/600], Loss: 2.2913\n",
      "Epoch [1/5], Step [200/600], Loss: 2.2976\n",
      "Epoch [1/5], Step [300/600], Loss: 2.3071\n",
      "Epoch [1/5], Step [400/600], Loss: 2.3021\n",
      "Epoch [1/5], Step [500/600], Loss: 2.3017\n",
      "Epoch [1/5], Step [600/600], Loss: 2.2996\n",
      "Epoch [2/5], Step [100/600], Loss: 2.3035\n",
      "Epoch [2/5], Step [200/600], Loss: 2.3027\n",
      "Epoch [2/5], Step [300/600], Loss: 2.2936\n",
      "Epoch [2/5], Step [400/600], Loss: 2.3096\n",
      "Epoch [2/5], Step [500/600], Loss: 2.2986\n",
      "Epoch [2/5], Step [600/600], Loss: 2.2972\n",
      "Epoch [3/5], Step [100/600], Loss: 2.2982\n",
      "Epoch [3/5], Step [200/600], Loss: 2.2978\n",
      "Epoch [3/5], Step [300/600], Loss: 2.2970\n",
      "Epoch [3/5], Step [400/600], Loss: 2.3008\n",
      "Epoch [3/5], Step [500/600], Loss: 2.3014\n",
      "Epoch [3/5], Step [600/600], Loss: 2.2995\n",
      "Epoch [4/5], Step [100/600], Loss: 2.2978\n",
      "Epoch [4/5], Step [200/600], Loss: 2.3010\n",
      "Epoch [4/5], Step [300/600], Loss: 2.2951\n",
      "Epoch [4/5], Step [400/600], Loss: 2.3052\n",
      "Epoch [4/5], Step [500/600], Loss: 2.2972\n",
      "Epoch [4/5], Step [600/600], Loss: 2.3094\n",
      "Epoch [5/5], Step [100/600], Loss: 2.3065\n",
      "Epoch [5/5], Step [200/600], Loss: 2.2928\n",
      "Epoch [5/5], Step [300/600], Loss: 2.3046\n",
      "Epoch [5/5], Step [400/600], Loss: 2.2980\n",
      "Epoch [5/5], Step [500/600], Loss: 2.3061\n",
      "Epoch [5/5], Step [600/600], Loss: 2.2966\n"
     ]
    }
   ],
   "source": [
    "for epoc in range(0,5):\n",
    "    \n",
    "    for i,(image,label) in enumerate(train_loader):\n",
    "        \n",
    "        image = image.to(device)\n",
    "        label = label.to(device)\n",
    "        \n",
    "        out = model.forward(image)\n",
    "        loss = loss_func(out,label)\n",
    "        \n",
    "        adam.zero_grad()\n",
    "        loss.backward()\n",
    "        adam.step()\n",
    "        \n",
    "        if (i+1) % 100 == 0:\n",
    "            print ('Epoch [{}/{}], Step [{}/{}], Loss: {:.4f}' .format(epoc+1, 5, i+1, len(train_loader), loss.item()))\n",
    "        \n",
    "    "
   ]
  },
  {
   "cell_type": "code",
   "execution_count": 30,
   "metadata": {
    "ExecuteTime": {
     "end_time": "2019-08-13T07:14:34.795488Z",
     "start_time": "2019-08-13T07:14:30.641919Z"
    }
   },
   "outputs": [
    {
     "name": "stdout",
     "output_type": "stream",
     "text": [
      "Test Accuracy of the model on the 10000 test images: 11.35 %\n"
     ]
    }
   ],
   "source": [
    "model.eval()  # eval mode (batchnorm uses moving mean/variance instead of mini-batch mean/variance)\n",
    "with torch.no_grad():\n",
    "    correct = 0\n",
    "    total = 0\n",
    "    for images, labels in test_loader:\n",
    "        images = images.to(device)\n",
    "        labels = labels.to(device)\n",
    "        outputs = model(images)\n",
    "        _, predicted = torch.max(outputs.data, 1)\n",
    "        total += labels.size(0)\n",
    "        correct += (predicted == labels).sum().item()\n",
    "\n",
    "    print('Test Accuracy of the model on the 10000 test images: {} %'.format(100 * correct / total))"
   ]
  },
  {
   "cell_type": "code",
   "execution_count": null,
   "metadata": {},
   "outputs": [],
   "source": []
  }
 ],
 "metadata": {
  "kernelspec": {
   "display_name": "Python 3",
   "language": "python",
   "name": "python3"
  },
  "language_info": {
   "codemirror_mode": {
    "name": "ipython",
    "version": 3
   },
   "file_extension": ".py",
   "mimetype": "text/x-python",
   "name": "python",
   "nbconvert_exporter": "python",
   "pygments_lexer": "ipython3",
   "version": "3.5.6"
  },
  "varInspector": {
   "cols": {
    "lenName": 16,
    "lenType": 16,
    "lenVar": 40
   },
   "kernels_config": {
    "python": {
     "delete_cmd_postfix": "",
     "delete_cmd_prefix": "del ",
     "library": "var_list.py",
     "varRefreshCmd": "print(var_dic_list())"
    },
    "r": {
     "delete_cmd_postfix": ") ",
     "delete_cmd_prefix": "rm(",
     "library": "var_list.r",
     "varRefreshCmd": "cat(var_dic_list()) "
    }
   },
   "types_to_exclude": [
    "module",
    "function",
    "builtin_function_or_method",
    "instance",
    "_Feature"
   ],
   "window_display": false
  }
 },
 "nbformat": 4,
 "nbformat_minor": 2
}
