{
 "cells": [
  {
   "cell_type": "code",
   "execution_count": 1,
   "metadata": {
    "ExecuteTime": {
     "end_time": "2019-08-13T10:18:17.342877Z",
     "start_time": "2019-08-13T10:18:17.339976Z"
    }
   },
   "outputs": [],
   "source": [
    "import torch\n",
    "import torch.nn as nn\n",
    "import torchvision\n",
    "import torchvision.transforms as transforms"
   ]
  },
  {
   "cell_type": "markdown",
   "metadata": {},
   "source": [
    "### Loading dataset and making it iteratable"
   ]
  },
  {
   "cell_type": "code",
   "execution_count": 2,
   "metadata": {
    "ExecuteTime": {
     "end_time": "2019-08-13T10:19:35.885892Z",
     "start_time": "2019-08-13T10:19:35.829943Z"
    }
   },
   "outputs": [],
   "source": [
    "train_data = torchvision.datasets.MNIST(root='data',transform=transforms.ToTensor(),train = True)\n",
    "test_data = torchvision.datasets.MNIST(root='data',transform=transforms.ToTensor(),train = False)"
   ]
  },
  {
   "cell_type": "code",
   "execution_count": 3,
   "metadata": {
    "ExecuteTime": {
     "end_time": "2019-08-13T10:20:24.282353Z",
     "start_time": "2019-08-13T10:20:24.277833Z"
    }
   },
   "outputs": [],
   "source": [
    "train_loader = torch.utils.data.DataLoader(dataset=train_data,batch_size=100,shuffle=True)\n",
    "test_loader = torch.utils.data.DataLoader(dataset=test_data,batch_size=100,shuffle=True)"
   ]
  },
  {
   "cell_type": "markdown",
   "metadata": {},
   "source": [
    "### Creating a model class"
   ]
  },
  {
   "cell_type": "code",
   "execution_count": 10,
   "metadata": {
    "ExecuteTime": {
     "end_time": "2019-08-13T10:36:53.314875Z",
     "start_time": "2019-08-13T10:36:53.308983Z"
    }
   },
   "outputs": [],
   "source": [
    "class RNN(nn.Module):\n",
    "    \n",
    "    def __init__(self,input_size,output_size,hidden_size,num_layers):\n",
    "        \n",
    "        super(RNN,self).__init__()\n",
    "        self.num_layers = num_layers\n",
    "        self.hidden_size = hidden_size\n",
    "        self.rnn = nn.RNN(input_size=input_size,hidden_size=hidden_size,num_layers=self.num_layers,batch_first=True,nonlinearity='relu')\n",
    "        \n",
    "        self.fc1 = nn.Linear(hidden_size,output_size)\n",
    "        \n",
    "    \n",
    "    def forward(self,X):\n",
    "        \n",
    "        h0 = torch.randn(self.num_layers,X.size(0),self.hidden_size)\n",
    "        out,h = self.rnn(X,h0)\n",
    "        out = out[:,-1,:]\n",
    "        out = self.fc1(out)\n",
    "        \n",
    "        return out"
   ]
  },
  {
   "cell_type": "code",
   "execution_count": 11,
   "metadata": {
    "ExecuteTime": {
     "end_time": "2019-08-13T10:36:53.794354Z",
     "start_time": "2019-08-13T10:36:53.790685Z"
    }
   },
   "outputs": [],
   "source": [
    "model = RNN(input_size=28,output_size=10,hidden_size=100,num_layers=1)"
   ]
  },
  {
   "cell_type": "markdown",
   "metadata": {},
   "source": [
    "### Creating Loss function and optimizer"
   ]
  },
  {
   "cell_type": "code",
   "execution_count": 12,
   "metadata": {
    "ExecuteTime": {
     "end_time": "2019-08-13T10:36:54.592036Z",
     "start_time": "2019-08-13T10:36:54.588584Z"
    }
   },
   "outputs": [],
   "source": [
    "loss_func = nn.CrossEntropyLoss()\n",
    "adam = torch.optim.SGD(model.parameters(),lr=0.1)"
   ]
  },
  {
   "cell_type": "code",
   "execution_count": 13,
   "metadata": {
    "ExecuteTime": {
     "end_time": "2019-08-13T10:36:55.006831Z",
     "start_time": "2019-08-13T10:36:55.003837Z"
    }
   },
   "outputs": [],
   "source": [
    "seq_lenght = 28\n",
    "input_size = 28"
   ]
  },
  {
   "cell_type": "markdown",
   "metadata": {},
   "source": [
    "### Trainning"
   ]
  },
  {
   "cell_type": "code",
   "execution_count": 15,
   "metadata": {
    "ExecuteTime": {
     "end_time": "2019-08-13T10:39:08.160899Z",
     "start_time": "2019-08-13T10:37:18.467567Z"
    }
   },
   "outputs": [
    {
     "name": "stdout",
     "output_type": "stream",
     "text": [
      "Epoch [1/5], Step [1/600], Loss: 2.3009\n",
      "Epoch [1/5], Step [101/600], Loss: 2.2958\n",
      "Epoch [1/5], Step [201/600], Loss: 2.2556\n",
      "Epoch [1/5], Step [301/600], Loss: 1.7866\n",
      "Epoch [1/5], Step [401/600], Loss: 1.7599\n",
      "Epoch [1/5], Step [501/600], Loss: 1.3238\n",
      "Epoch [2/5], Step [1/600], Loss: 1.3926\n",
      "Epoch [2/5], Step [101/600], Loss: 1.2439\n",
      "Epoch [2/5], Step [201/600], Loss: 0.8380\n",
      "Epoch [2/5], Step [301/600], Loss: 1.2381\n",
      "Epoch [2/5], Step [401/600], Loss: 0.7873\n",
      "Epoch [2/5], Step [501/600], Loss: 0.5816\n",
      "Epoch [3/5], Step [1/600], Loss: 0.6455\n",
      "Epoch [3/5], Step [101/600], Loss: 0.8050\n",
      "Epoch [3/5], Step [201/600], Loss: 0.5333\n",
      "Epoch [3/5], Step [301/600], Loss: 0.4524\n",
      "Epoch [3/5], Step [401/600], Loss: 0.4960\n",
      "Epoch [3/5], Step [501/600], Loss: 0.3059\n",
      "Epoch [4/5], Step [1/600], Loss: 0.5181\n",
      "Epoch [4/5], Step [101/600], Loss: 0.2111\n",
      "Epoch [4/5], Step [201/600], Loss: 0.3690\n",
      "Epoch [4/5], Step [301/600], Loss: 0.5155\n",
      "Epoch [4/5], Step [401/600], Loss: 0.3793\n",
      "Epoch [4/5], Step [501/600], Loss: 1.6580\n",
      "Epoch [5/5], Step [1/600], Loss: 0.3566\n",
      "Epoch [5/5], Step [101/600], Loss: 0.6060\n",
      "Epoch [5/5], Step [201/600], Loss: 0.5825\n",
      "Epoch [5/5], Step [301/600], Loss: 0.3456\n",
      "Epoch [5/5], Step [401/600], Loss: 0.5080\n",
      "Epoch [5/5], Step [501/600], Loss: 0.2657\n"
     ]
    }
   ],
   "source": [
    "for epoc in range(5):\n",
    "    \n",
    "    for i,(images,labels) in enumerate(train_loader):\n",
    "\n",
    "        images = images.view(-1,seq_lenght,input_size)\n",
    "\n",
    "        out = model.forward(images)\n",
    "\n",
    "        loss = loss_func(out,labels)\n",
    "\n",
    "        adam.zero_grad()\n",
    "        loss.backward()\n",
    "        adam.step()\n",
    "\n",
    "        if i %100 == 0:\n",
    "\n",
    "            print ('Epoch [{}/{}], Step [{}/{}], Loss: {:.4f}' .format(epoc+1, 5, i+1, len(train_loader), loss.item()))\n"
   ]
  },
  {
   "cell_type": "code",
   "execution_count": 17,
   "metadata": {
    "ExecuteTime": {
     "end_time": "2019-08-13T10:43:06.421360Z",
     "start_time": "2019-08-13T10:43:04.942070Z"
    }
   },
   "outputs": [
    {
     "name": "stdout",
     "output_type": "stream",
     "text": [
      "Test Accuracy of the model on the 10000 test images: 79.92 %\n"
     ]
    }
   ],
   "source": [
    "model.eval()  # eval mode (batchnorm uses moving mean/variance instead of mini-batch mean/variance)\n",
    "with torch.no_grad():\n",
    "    correct = 0\n",
    "    total = 0\n",
    "    for images, labels in test_loader:\n",
    "        images = images.view(-1,seq_lenght,input_size)\n",
    "        outputs = model(images)\n",
    "        _, predicted = torch.max(outputs.data, 1)\n",
    "        total += labels.size(0)\n",
    "        correct += (predicted == labels).sum().item()\n",
    "\n",
    "    print('Test Accuracy of the model on the 10000 test images: {} %'.format(100 * correct / total))"
   ]
  },
  {
   "cell_type": "code",
   "execution_count": null,
   "metadata": {},
   "outputs": [],
   "source": []
  }
 ],
 "metadata": {
  "kernelspec": {
   "display_name": "Python 3",
   "language": "python",
   "name": "python3"
  },
  "language_info": {
   "codemirror_mode": {
    "name": "ipython",
    "version": 3
   },
   "file_extension": ".py",
   "mimetype": "text/x-python",
   "name": "python",
   "nbconvert_exporter": "python",
   "pygments_lexer": "ipython3",
   "version": "3.5.6"
  },
  "varInspector": {
   "cols": {
    "lenName": 16,
    "lenType": 16,
    "lenVar": 40
   },
   "kernels_config": {
    "python": {
     "delete_cmd_postfix": "",
     "delete_cmd_prefix": "del ",
     "library": "var_list.py",
     "varRefreshCmd": "print(var_dic_list())"
    },
    "r": {
     "delete_cmd_postfix": ") ",
     "delete_cmd_prefix": "rm(",
     "library": "var_list.r",
     "varRefreshCmd": "cat(var_dic_list()) "
    }
   },
   "types_to_exclude": [
    "module",
    "function",
    "builtin_function_or_method",
    "instance",
    "_Feature"
   ],
   "window_display": false
  }
 },
 "nbformat": 4,
 "nbformat_minor": 2
}
